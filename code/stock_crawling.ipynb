{
 "cells": [
  {
   "cell_type": "code",
   "execution_count": null,
   "metadata": {
    "metadata": {}
   },
   "outputs": [],
   "source": [
    "import os\n",
    "import logging\n",
    "\n",
    "import requests\n",
    "import yfinance as yf\n",
    "import pandas as pd\n",
    "\n",
    "from tqdm import tqdm\n",
    "from bs4 import BeautifulSoup\n",
    "\n",
    "\n",
    "logging.getLogger('yfinance').setLevel(logging.CRITICAL)\n",
    "\n",
    "url = 'https://q.stock.sohu.com/cn/bk_4539.html'\n",
    "\n",
    "response = requests.get(url)\n",
    "\n",
    "# 使用BeautifulSoup解析HTML\n",
    "soup = BeautifulSoup(response.text, 'html.parser')\n",
    "\n",
    "# 初始化股票字典\n",
    "stock_dict = {}\n",
    "\n",
    "# 遍历所有包含股票代码和名称的<tr>元素\n",
    "for tr in soup.find_all('tr', class_='red'):\n",
    "    # 提取股票代码\n",
    "    code = tr.find('td', class_='e1').text\n",
    "    \n",
    "    # 判断股票在哪个交易所，给股票代码加上后缀\n",
    "    if code[0] == '6':\n",
    "        code = code + '.SS'\n",
    "    else:\n",
    "        code = code + '.SZ'\n",
    "\n",
    "    # 提取股票名称，注意股票名称在<a>标签内\n",
    "    name = tr.find('td', class_='e2').a.text\n",
    "    # 将股票代码和名称存入字典\n",
    "    stock_dict[code] = name\n",
    "\n",
    "print(stock_dict)\n",
    "\n",
    "stock_code = list(stock_dict.keys())\n",
    "stock_code.sort()\n",
    "\n",
    "print(len(stock_code))"
   ]
  },
  {
   "cell_type": "code",
   "execution_count": null,
   "metadata": {
    "metadata": {}
   },
   "outputs": [],
   "source": [
    "csv_file = \"stocks3.csv\"\n",
    "\n",
    "# 删除原有的csv文件\n",
    "try:\n",
    "    os.remove(csv_file)\n",
    "except:\n",
    "    pass\n",
    "\n",
    "# 初始化一个空的DataFrame列表\n",
    "data_frames = []\n",
    "# 初始化一个空的错误代码列表\n",
    "error_codes = []\n",
    "\n",
    "for code in tqdm(stock_code, desc=\"Downloading stock data\"):\n",
    "    # 爬取近一年的股票数据\n",
    "    data = yf.download(code, start=\"2023-01-01\", end=\"2024-01-01\", progress=False)\n",
    "    if data.empty:\n",
    "        error_codes.append(code)\n",
    "        continue\n",
    "    # 仅保留收盘价数据\n",
    "    close_data = data[[\"Close\"]]\n",
    "    # 重命名列名为股票名称\n",
    "    close_data.columns = [stock_dict[code]]\n",
    "    # 将索引转换为字符串格式\n",
    "    close_data.index = close_data.index.strftime('%Y/%m/%d')\n",
    "    # 将DataFrame添加到列表中\n",
    "    data_frames.append(close_data)\n",
    "\n",
    "\n",
    "print(f'找到{len(data_frames)-len(error_codes)}个股票的数据')\n",
    "\n",
    "# 如果某个股票存在一个日期为空值，就删除这个股票\n",
    "data_frames.dropna(axis=1, how='any', inplace=True)\n",
    "\n",
    "# 重新计算股票数量\n",
    "print(f'有效股票数量：{len(data_frames)}')\n",
    "\n",
    "# 使用pd.concat一次性合并所有DataFrame\n",
    "all_data = pd.concat(data_frames, axis=1)\n",
    "\n",
    "# 将最终的DataFrame写入CSV文件\n",
    "all_data.to_csv(csv_file, encoding='utf-8-sig')"
   ]
  },
  {
   "cell_type": "code",
   "execution_count": null,
   "metadata": {
    "metadata": {}
   },
   "outputs": [],
   "source": []
  },
  {
   "cell_type": "code",
   "execution_count": null,
   "metadata": {
    "metadata": {}
   },
   "outputs": [],
   "source": []
  }
 ],
 "metadata": {
  "kernelspec": {
   "display_name": "crawler",
   "language": "python",
   "name": "python3"
  },
  "language_info": {
   "codemirror_mode": {
    "name": "ipython",
    "version": 3
   },
   "file_extension": ".py",
   "mimetype": "text/x-python",
   "name": "python",
   "nbconvert_exporter": "python",
   "pygments_lexer": "ipython3",
   "version": "3.9.10"
  }
 },
 "nbformat": 4,
 "nbformat_minor": 2
}
